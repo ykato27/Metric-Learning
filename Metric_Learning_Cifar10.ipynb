{
  "nbformat": 4,
  "nbformat_minor": 0,
  "metadata": {
    "colab": {
      "name": "Metric-Learning_Cifar10.ipynb",
      "provenance": [],
      "collapsed_sections": [],
      "authorship_tag": "ABX9TyMebQZhnWR7B0DCeVHKcBiI",
      "include_colab_link": true
    },
    "kernelspec": {
      "name": "python3",
      "display_name": "Python 3"
    },
    "language_info": {
      "name": "python"
    },
    "accelerator": "GPU",
    "widgets": {
      "application/vnd.jupyter.widget-state+json": {
        "91f5556c49dc4b49bb23093b828f7324": {
          "model_module": "@jupyter-widgets/controls",
          "model_name": "HBoxModel",
          "model_module_version": "1.5.0",
          "state": {
            "_view_name": "HBoxView",
            "_dom_classes": [],
            "_model_name": "HBoxModel",
            "_view_module": "@jupyter-widgets/controls",
            "_model_module_version": "1.5.0",
            "_view_count": null,
            "_view_module_version": "1.5.0",
            "box_style": "",
            "layout": "IPY_MODEL_be7cb6909e3947a5a5ae09b68c5611e5",
            "_model_module": "@jupyter-widgets/controls",
            "children": [
              "IPY_MODEL_11cac076fe9845e4ba4a0d7c4d0a0ee1",
              "IPY_MODEL_a400b052ac7e475b8453552b9e0af7d3",
              "IPY_MODEL_6894cf54be3b415d9ad805696d0e9e46"
            ]
          }
        },
        "be7cb6909e3947a5a5ae09b68c5611e5": {
          "model_module": "@jupyter-widgets/base",
          "model_name": "LayoutModel",
          "model_module_version": "1.2.0",
          "state": {
            "_view_name": "LayoutView",
            "grid_template_rows": null,
            "right": null,
            "justify_content": null,
            "_view_module": "@jupyter-widgets/base",
            "overflow": null,
            "_model_module_version": "1.2.0",
            "_view_count": null,
            "flex_flow": null,
            "width": null,
            "min_width": null,
            "border": null,
            "align_items": null,
            "bottom": null,
            "_model_module": "@jupyter-widgets/base",
            "top": null,
            "grid_column": null,
            "overflow_y": null,
            "overflow_x": null,
            "grid_auto_flow": null,
            "grid_area": null,
            "grid_template_columns": null,
            "flex": null,
            "_model_name": "LayoutModel",
            "justify_items": null,
            "grid_row": null,
            "max_height": null,
            "align_content": null,
            "visibility": null,
            "align_self": null,
            "height": null,
            "min_height": null,
            "padding": null,
            "grid_auto_rows": null,
            "grid_gap": null,
            "max_width": null,
            "order": null,
            "_view_module_version": "1.2.0",
            "grid_template_areas": null,
            "object_position": null,
            "object_fit": null,
            "grid_auto_columns": null,
            "margin": null,
            "display": null,
            "left": null
          }
        },
        "11cac076fe9845e4ba4a0d7c4d0a0ee1": {
          "model_module": "@jupyter-widgets/controls",
          "model_name": "HTMLModel",
          "model_module_version": "1.5.0",
          "state": {
            "_view_name": "HTMLView",
            "style": "IPY_MODEL_ed745403724244cc81c87d934ccbfd63",
            "_dom_classes": [],
            "description": "",
            "_model_name": "HTMLModel",
            "placeholder": "​",
            "_view_module": "@jupyter-widgets/controls",
            "_model_module_version": "1.5.0",
            "value": "",
            "_view_count": null,
            "_view_module_version": "1.5.0",
            "description_tooltip": null,
            "_model_module": "@jupyter-widgets/controls",
            "layout": "IPY_MODEL_b28187ecb9c84432a9e8d9322ab5e5d9"
          }
        },
        "a400b052ac7e475b8453552b9e0af7d3": {
          "model_module": "@jupyter-widgets/controls",
          "model_name": "FloatProgressModel",
          "model_module_version": "1.5.0",
          "state": {
            "_view_name": "ProgressView",
            "style": "IPY_MODEL_d62fcd638c6b486a8c813f38dd3e8574",
            "_dom_classes": [],
            "description": "",
            "_model_name": "FloatProgressModel",
            "bar_style": "success",
            "max": 170498071,
            "_view_module": "@jupyter-widgets/controls",
            "_model_module_version": "1.5.0",
            "value": 170498071,
            "_view_count": null,
            "_view_module_version": "1.5.0",
            "orientation": "horizontal",
            "min": 0,
            "description_tooltip": null,
            "_model_module": "@jupyter-widgets/controls",
            "layout": "IPY_MODEL_a012cb48d9774058a25170e91c20d7b2"
          }
        },
        "6894cf54be3b415d9ad805696d0e9e46": {
          "model_module": "@jupyter-widgets/controls",
          "model_name": "HTMLModel",
          "model_module_version": "1.5.0",
          "state": {
            "_view_name": "HTMLView",
            "style": "IPY_MODEL_ba38b648ce164005857e3e846146396b",
            "_dom_classes": [],
            "description": "",
            "_model_name": "HTMLModel",
            "placeholder": "​",
            "_view_module": "@jupyter-widgets/controls",
            "_model_module_version": "1.5.0",
            "value": " 170499072/? [00:03&lt;00:00, 54182034.77it/s]",
            "_view_count": null,
            "_view_module_version": "1.5.0",
            "description_tooltip": null,
            "_model_module": "@jupyter-widgets/controls",
            "layout": "IPY_MODEL_a743776702754ead9fd91baba32caae8"
          }
        },
        "ed745403724244cc81c87d934ccbfd63": {
          "model_module": "@jupyter-widgets/controls",
          "model_name": "DescriptionStyleModel",
          "model_module_version": "1.5.0",
          "state": {
            "_view_name": "StyleView",
            "_model_name": "DescriptionStyleModel",
            "description_width": "",
            "_view_module": "@jupyter-widgets/base",
            "_model_module_version": "1.5.0",
            "_view_count": null,
            "_view_module_version": "1.2.0",
            "_model_module": "@jupyter-widgets/controls"
          }
        },
        "b28187ecb9c84432a9e8d9322ab5e5d9": {
          "model_module": "@jupyter-widgets/base",
          "model_name": "LayoutModel",
          "model_module_version": "1.2.0",
          "state": {
            "_view_name": "LayoutView",
            "grid_template_rows": null,
            "right": null,
            "justify_content": null,
            "_view_module": "@jupyter-widgets/base",
            "overflow": null,
            "_model_module_version": "1.2.0",
            "_view_count": null,
            "flex_flow": null,
            "width": null,
            "min_width": null,
            "border": null,
            "align_items": null,
            "bottom": null,
            "_model_module": "@jupyter-widgets/base",
            "top": null,
            "grid_column": null,
            "overflow_y": null,
            "overflow_x": null,
            "grid_auto_flow": null,
            "grid_area": null,
            "grid_template_columns": null,
            "flex": null,
            "_model_name": "LayoutModel",
            "justify_items": null,
            "grid_row": null,
            "max_height": null,
            "align_content": null,
            "visibility": null,
            "align_self": null,
            "height": null,
            "min_height": null,
            "padding": null,
            "grid_auto_rows": null,
            "grid_gap": null,
            "max_width": null,
            "order": null,
            "_view_module_version": "1.2.0",
            "grid_template_areas": null,
            "object_position": null,
            "object_fit": null,
            "grid_auto_columns": null,
            "margin": null,
            "display": null,
            "left": null
          }
        },
        "d62fcd638c6b486a8c813f38dd3e8574": {
          "model_module": "@jupyter-widgets/controls",
          "model_name": "ProgressStyleModel",
          "model_module_version": "1.5.0",
          "state": {
            "_view_name": "StyleView",
            "_model_name": "ProgressStyleModel",
            "description_width": "",
            "_view_module": "@jupyter-widgets/base",
            "_model_module_version": "1.5.0",
            "_view_count": null,
            "_view_module_version": "1.2.0",
            "bar_color": null,
            "_model_module": "@jupyter-widgets/controls"
          }
        },
        "a012cb48d9774058a25170e91c20d7b2": {
          "model_module": "@jupyter-widgets/base",
          "model_name": "LayoutModel",
          "model_module_version": "1.2.0",
          "state": {
            "_view_name": "LayoutView",
            "grid_template_rows": null,
            "right": null,
            "justify_content": null,
            "_view_module": "@jupyter-widgets/base",
            "overflow": null,
            "_model_module_version": "1.2.0",
            "_view_count": null,
            "flex_flow": null,
            "width": null,
            "min_width": null,
            "border": null,
            "align_items": null,
            "bottom": null,
            "_model_module": "@jupyter-widgets/base",
            "top": null,
            "grid_column": null,
            "overflow_y": null,
            "overflow_x": null,
            "grid_auto_flow": null,
            "grid_area": null,
            "grid_template_columns": null,
            "flex": null,
            "_model_name": "LayoutModel",
            "justify_items": null,
            "grid_row": null,
            "max_height": null,
            "align_content": null,
            "visibility": null,
            "align_self": null,
            "height": null,
            "min_height": null,
            "padding": null,
            "grid_auto_rows": null,
            "grid_gap": null,
            "max_width": null,
            "order": null,
            "_view_module_version": "1.2.0",
            "grid_template_areas": null,
            "object_position": null,
            "object_fit": null,
            "grid_auto_columns": null,
            "margin": null,
            "display": null,
            "left": null
          }
        },
        "ba38b648ce164005857e3e846146396b": {
          "model_module": "@jupyter-widgets/controls",
          "model_name": "DescriptionStyleModel",
          "model_module_version": "1.5.0",
          "state": {
            "_view_name": "StyleView",
            "_model_name": "DescriptionStyleModel",
            "description_width": "",
            "_view_module": "@jupyter-widgets/base",
            "_model_module_version": "1.5.0",
            "_view_count": null,
            "_view_module_version": "1.2.0",
            "_model_module": "@jupyter-widgets/controls"
          }
        },
        "a743776702754ead9fd91baba32caae8": {
          "model_module": "@jupyter-widgets/base",
          "model_name": "LayoutModel",
          "model_module_version": "1.2.0",
          "state": {
            "_view_name": "LayoutView",
            "grid_template_rows": null,
            "right": null,
            "justify_content": null,
            "_view_module": "@jupyter-widgets/base",
            "overflow": null,
            "_model_module_version": "1.2.0",
            "_view_count": null,
            "flex_flow": null,
            "width": null,
            "min_width": null,
            "border": null,
            "align_items": null,
            "bottom": null,
            "_model_module": "@jupyter-widgets/base",
            "top": null,
            "grid_column": null,
            "overflow_y": null,
            "overflow_x": null,
            "grid_auto_flow": null,
            "grid_area": null,
            "grid_template_columns": null,
            "flex": null,
            "_model_name": "LayoutModel",
            "justify_items": null,
            "grid_row": null,
            "max_height": null,
            "align_content": null,
            "visibility": null,
            "align_self": null,
            "height": null,
            "min_height": null,
            "padding": null,
            "grid_auto_rows": null,
            "grid_gap": null,
            "max_width": null,
            "order": null,
            "_view_module_version": "1.2.0",
            "grid_template_areas": null,
            "object_position": null,
            "object_fit": null,
            "grid_auto_columns": null,
            "margin": null,
            "display": null,
            "left": null
          }
        }
      }
    }
  },
  "cells": [
    {
      "cell_type": "markdown",
      "metadata": {
        "id": "view-in-github",
        "colab_type": "text"
      },
      "source": [
        "<a href=\"https://colab.research.google.com/github/ykato27/Metric-Learning/blob/main/Metric_Learning_Cifar10.ipynb\" target=\"_parent\"><img src=\"https://colab.research.google.com/assets/colab-badge.svg\" alt=\"Open In Colab\"/></a>"
      ]
    },
    {
      "cell_type": "markdown",
      "metadata": {
        "id": "bntJsNKG1ZWT"
      },
      "source": [
        "## Metric Learningを活用して画像検索を実施\n"
      ]
    },
    {
      "cell_type": "code",
      "metadata": {
        "id": "FS7z9BuG6iXW"
      },
      "source": [
        "import os\n",
        "import sys\n",
        "import time\n",
        "import random\n",
        "import numpy as np\n",
        "from numpy.random import choice as npc\n",
        "import matplotlib.pyplot as plt\n",
        "from collections import deque\n",
        "from PIL import Image\n",
        "from collections import defaultdict\n",
        "\n",
        "import torch\n",
        "import torchvision\n",
        "import torchvision.transforms as transforms\n",
        "import torchvision.datasets as dset\n",
        "from torch.utils.data import Dataset, DataLoader\n",
        "import torch.nn as nn\n",
        "import torch.nn.functional as F\n",
        "from torch.autograd import Variable"
      ],
      "execution_count": 1,
      "outputs": []
    },
    {
      "cell_type": "markdown",
      "metadata": {
        "id": "YEP-kfPu0PHc"
      },
      "source": [
        "Cifar10のデータ・セットを取得"
      ]
    },
    {
      "cell_type": "code",
      "metadata": {
        "colab": {
          "base_uri": "https://localhost:8080/",
          "height": 117,
          "referenced_widgets": [
            "91f5556c49dc4b49bb23093b828f7324",
            "be7cb6909e3947a5a5ae09b68c5611e5",
            "11cac076fe9845e4ba4a0d7c4d0a0ee1",
            "a400b052ac7e475b8453552b9e0af7d3",
            "6894cf54be3b415d9ad805696d0e9e46",
            "ed745403724244cc81c87d934ccbfd63",
            "b28187ecb9c84432a9e8d9322ab5e5d9",
            "d62fcd638c6b486a8c813f38dd3e8574",
            "a012cb48d9774058a25170e91c20d7b2",
            "ba38b648ce164005857e3e846146396b",
            "a743776702754ead9fd91baba32caae8"
          ]
        },
        "id": "7DrRWukj0FLw",
        "outputId": "f91e5538-7b57-4a11-ee80-464b0ddb63aa"
      },
      "source": [
        "transform = transforms.Compose(\n",
        "    [transforms.ToTensor(),\n",
        "     transforms.Normalize((0.5, 0.5, 0.5), (0.5, 0.5, 0.5))]\n",
        "     )\n",
        "\n",
        "trainset = torchvision.datasets.CIFAR10(\n",
        "    root='./data',\n",
        "    train=True,\n",
        "    download=True,\n",
        "    transform=transform\n",
        "    )\n",
        "\n",
        "testset = torchvision.datasets.CIFAR10(\n",
        "    root='./data',\n",
        "    train=False,\n",
        "    download=True,\n",
        "    transform=transform\n",
        "    )\n",
        "\n",
        "dataset_size = trainset.data.shape[0]\n",
        "dataset_size"
      ],
      "execution_count": 2,
      "outputs": [
        {
          "output_type": "stream",
          "name": "stdout",
          "text": [
            "Downloading https://www.cs.toronto.edu/~kriz/cifar-10-python.tar.gz to ./data/cifar-10-python.tar.gz\n"
          ]
        },
        {
          "output_type": "display_data",
          "data": {
            "application/vnd.jupyter.widget-view+json": {
              "model_id": "91f5556c49dc4b49bb23093b828f7324",
              "version_minor": 0,
              "version_major": 2
            },
            "text/plain": [
              "  0%|          | 0/170498071 [00:00<?, ?it/s]"
            ]
          },
          "metadata": {}
        },
        {
          "output_type": "stream",
          "name": "stdout",
          "text": [
            "Extracting ./data/cifar-10-python.tar.gz to ./data\n",
            "Files already downloaded and verified\n"
          ]
        },
        {
          "output_type": "execute_result",
          "data": {
            "text/plain": [
              "50000"
            ]
          },
          "metadata": {},
          "execution_count": 2
        }
      ]
    },
    {
      "cell_type": "markdown",
      "metadata": {
        "id": "kaloShXe0Trs"
      },
      "source": [
        "ラベルごとにデータを分けて保存"
      ]
    },
    {
      "cell_type": "code",
      "metadata": {
        "id": "4zVTxmfK0K94"
      },
      "source": [
        "train_data_set = defaultdict(list)\n",
        "\n",
        "for index, label in enumerate(trainset.targets):\n",
        "  train_data_set[label].append(Image.fromarray(trainset.data[index]))\n",
        "\n",
        "test_data_set = defaultdict(list)\n",
        "\n",
        "for index, label in enumerate(testset.targets):\n",
        "  test_data_set[label].append(Image.fromarray(testset.data[index]))"
      ],
      "execution_count": 3,
      "outputs": []
    },
    {
      "cell_type": "markdown",
      "metadata": {
        "id": "XklA98BH0Xeh"
      },
      "source": [
        "Cifar10の学習データ取得するためのクラス"
      ]
    },
    {
      "cell_type": "code",
      "metadata": {
        "id": "kSykE4g90VRw"
      },
      "source": [
        "class Cifar10Train(Dataset):\n",
        "\n",
        "    def __init__(self, datas, transform=None):\n",
        "        super(Cifar10Train, self).__init__()\n",
        "        np.random.seed(0)\n",
        "        self.datas = datas\n",
        "        self.num_classes = len(datas)\n",
        "        self.transform = transform\n",
        "\n",
        "    def __len__(self):\n",
        "        size = len(self.datas) * len(self.datas[0])\n",
        "        return size\n",
        "\n",
        "    def __getitem__(self, index):\n",
        "        # image1 = random.choice(self.dataset.imgs)\n",
        "        label = None\n",
        "        img1 = None\n",
        "        img2 = None\n",
        "        # get image from same class\n",
        "        if index % 2 == 1:\n",
        "            label = 1.0\n",
        "            idx1 = random.randint(0, self.num_classes - 1)\n",
        "            image1 = random.choice(self.datas[idx1])\n",
        "            image2 = random.choice(self.datas[idx1])\n",
        "        # get image from different class\n",
        "        else:\n",
        "            label = 0.0\n",
        "            idx1 = random.randint(0, self.num_classes - 1)\n",
        "            idx2 = random.randint(0, self.num_classes - 1)\n",
        "            while idx1 == idx2:\n",
        "                idx2 = random.randint(0, self.num_classes - 1)\n",
        "            image1 = random.choice(self.datas[idx1])\n",
        "            image2 = random.choice(self.datas[idx2])\n",
        "\n",
        "        if self.transform:\n",
        "            image1 = self.transform(image1)\n",
        "            image2 = self.transform(image2)\n",
        "        return image1, image2, torch.from_numpy(np.array([label], dtype=np.float32))"
      ],
      "execution_count": 4,
      "outputs": []
    },
    {
      "cell_type": "markdown",
      "metadata": {
        "id": "3eQS8m2O0boz"
      },
      "source": [
        "Cifar10の評価データ取得するためのクラス"
      ]
    },
    {
      "cell_type": "code",
      "metadata": {
        "id": "JuYxqxJ60Zue"
      },
      "source": [
        "class Cifar10Test(Dataset):\n",
        "\n",
        "    def __init__(self, datas, transform=None, times=200, way=20):\n",
        "        np.random.seed(1)\n",
        "        super(Cifar10Test, self).__init__()\n",
        "        self.transform = transform\n",
        "        self.times = times\n",
        "        self.way = way\n",
        "        self.img1 = None\n",
        "        self.c1 = None\n",
        "        self.datas = datas \n",
        "        self.num_classes = len(datas)\n",
        "\n",
        "    def __len__(self):\n",
        "        return self.times * self.way\n",
        "\n",
        "    def __getitem__(self, index):\n",
        "        idx = index % self.way\n",
        "        label = None\n",
        "        # generate image pair from same class\n",
        "        if idx == 0:\n",
        "            self.c1 = random.randint(0, self.num_classes - 1)\n",
        "            self.img1 = random.choice(self.datas[self.c1])\n",
        "            img2 = random.choice(self.datas[self.c1])\n",
        "        # generate image pair from different class\n",
        "        else:\n",
        "            c2 = random.randint(0, self.num_classes - 1)\n",
        "            while self.c1 == c2:\n",
        "                c2 = random.randint(0, self.num_classes - 1)\n",
        "            img2 = random.choice(self.datas[c2])\n",
        "\n",
        "        if self.transform:\n",
        "            img1 = self.transform(self.img1)\n",
        "            img2 = self.transform(img2)\n",
        "        return img1, img2"
      ],
      "execution_count": 5,
      "outputs": []
    },
    {
      "cell_type": "markdown",
      "metadata": {
        "id": "nm7HCcBX0lDN"
      },
      "source": [
        "SIAMESE NETWORKを記述"
      ]
    },
    {
      "cell_type": "code",
      "metadata": {
        "id": "YVqPfe1_0eGy"
      },
      "source": [
        "class Siamese(nn.Module):\n",
        "\n",
        "    def __init__(self):\n",
        "        super(Siamese, self).__init__()\n",
        "        self.conv = nn.Sequential(\n",
        "            nn.Conv2d(3, 64, 10),\n",
        "            nn.ReLU(inplace=True),\n",
        "            nn.MaxPool2d(2),\n",
        "            nn.Conv2d(64, 128, 7),\n",
        "            nn.ReLU(), \n",
        "            nn.MaxPool2d(2),\n",
        "            nn.Conv2d(128, 128, 2),\n",
        "            nn.ReLU(), \n",
        "            nn.Conv2d(128, 256, 1),\n",
        "            nn.ReLU(), \n",
        "        )\n",
        "        self.liner = nn.Sequential(nn.Linear(256, 4096), nn.Sigmoid())\n",
        "        self.out = nn.Linear(4096, 1)\n",
        "\n",
        "    def forward_one(self, x):\n",
        "        x = self.conv(x)\n",
        "        x = x.view(x.size()[0], -1)\n",
        "        x = self.liner(x)\n",
        "        return x\n",
        "\n",
        "    def forward(self, x1, x2):\n",
        "        out1 = self.forward_one(x1)\n",
        "        out2 = self.forward_one(x2)\n",
        "        dis = torch.abs(out1 - out2)\n",
        "        out = self.out(dis)\n",
        "        return out"
      ],
      "execution_count": 6,
      "outputs": []
    },
    {
      "cell_type": "markdown",
      "metadata": {
        "id": "azLT8ojb0pBP"
      },
      "source": [
        "データを取得するデータローダーを設定"
      ]
    },
    {
      "cell_type": "code",
      "metadata": {
        "colab": {
          "base_uri": "https://localhost:8080/"
        },
        "id": "HrXB55vE0nMU",
        "outputId": "cbba789d-d80e-46da-e2a6-2f304063162e"
      },
      "source": [
        "data_transforms = transforms.Compose([\n",
        "    transforms.RandomAffine(15),\n",
        "    transforms.ToTensor()\n",
        "])\n",
        "\n",
        "\n",
        "trainSet = Cifar10Train(train_data_set, transform=data_transforms)\n",
        "\n",
        "trainLoader = DataLoader(trainSet, batch_size=128, shuffle=False, num_workers=4)\n",
        "\n",
        "testSet = Cifar10Test(test_data_set, transform=transforms.ToTensor(), times = 200, way = 5)\n",
        "testLoader = DataLoader(testSet, batch_size=5, shuffle=False, num_workers=4)\n",
        "\n",
        "loss_fn = torch.nn.BCEWithLogitsLoss(size_average=True)\n",
        "net = Siamese()"
      ],
      "execution_count": 7,
      "outputs": [
        {
          "output_type": "stream",
          "name": "stderr",
          "text": [
            "/usr/local/lib/python3.7/dist-packages/torch/utils/data/dataloader.py:481: UserWarning: This DataLoader will create 4 worker processes in total. Our suggested max number of worker in current system is 2, which is smaller than what this DataLoader is going to create. Please be aware that excessive worker creation might get DataLoader running slow or even freeze, lower the worker number to avoid potential slowness/freeze if necessary.\n",
            "  cpuset_checked))\n",
            "/usr/local/lib/python3.7/dist-packages/torch/nn/_reduction.py:42: UserWarning: size_average and reduce args will be deprecated, please use reduction='mean' instead.\n",
            "  warnings.warn(warning.format(ret))\n"
          ]
        }
      ]
    },
    {
      "cell_type": "markdown",
      "metadata": {
        "id": "8WaJjG2P0u-f"
      },
      "source": [
        "- SIAMESE NETWORKをGPUで学習するための変換設定\n",
        "- 学習のための`optimizer`を設定"
      ]
    },
    {
      "cell_type": "code",
      "metadata": {
        "id": "LsmmqJJL0rrK"
      },
      "source": [
        "device = torch.device('cuda' if torch.cuda.is_available() else 'cpu')\n",
        "if device == 'cuda':\n",
        "    net.cuda()\n",
        "\n",
        "net.train()\n",
        "\n",
        "optimizer = torch.optim.Adam(net.parameters(),lr = 0.00006 )\n",
        "optimizer.zero_grad()"
      ],
      "execution_count": 8,
      "outputs": []
    },
    {
      "cell_type": "markdown",
      "metadata": {
        "id": "-dd2sqH-04Ib"
      },
      "source": [
        "SIAMESE NETWORKを学習"
      ]
    },
    {
      "cell_type": "code",
      "metadata": {
        "colab": {
          "base_uri": "https://localhost:8080/"
        },
        "id": "SDknxq_a01jX",
        "outputId": "59f2846f-b3cd-4af1-f0ce-214b44fec0f4"
      },
      "source": [
        "train_loss = []\n",
        "loss_val = 0\n",
        "time_start = time.time()\n",
        "queue = deque(maxlen=20)\n",
        "max_iter = 50000\n",
        "\n",
        "for batch_id, (img1, img2, label) in enumerate(trainLoader, 1):\n",
        "    if batch_id > max_iter:\n",
        "        break\n",
        "    if device == 'cuda':\n",
        "        img1, img2, label = Variable(img1.cuda()), Variable(img2.cuda()), Variable(label.cuda())\n",
        "    else:\n",
        "        img1, img2, label = Variable(img1), Variable(img2), Variable(label)\n",
        "    optimizer.zero_grad()\n",
        "    output = net.forward(img1, img2)\n",
        "    loss = loss_fn(output, label)\n",
        "    loss_val += loss.item()\n",
        "    loss.backward()\n",
        "    optimizer.step()\n",
        "    if batch_id % 10 == 0 :\n",
        "        print('[%d]\\tloss:\\t%.5f\\ttime lapsed:\\t%.2f s'%(batch_id, loss_val/10, time.time() - time_start))\n",
        "        loss_val = 0\n",
        "        time_start = time.time()\n",
        "    if batch_id % 100 == 0:\n",
        "        torch.save(net.state_dict(),  './model-inter-' + str(batch_id+1) + \".pt\")\n",
        "    if batch_id % 100 == 0:\n",
        "        right, error = 0, 0\n",
        "        for _, (test1, test2) in enumerate(testLoader, 1):\n",
        "            if device == 'cuda':\n",
        "                test1, test2 = test1.cuda(), test2.cuda()\n",
        "            test1, test2 = Variable(test1), Variable(test2)\n",
        "            output = net.forward(test1, test2).data.cpu().numpy()\n",
        "            pred = np.argmax(output)\n",
        "            if pred == 0:\n",
        "                right += 1\n",
        "            else: error += 1\n",
        "        print('*'*70)\n",
        "        print('[%d]\\tTest set\\tcorrect:\\t%d\\terror:\\t%d\\tprecision:\\t%f'%(batch_id, right, error, right*1.0/(right+error)))\n",
        "        print('*'*70)\n",
        "        queue.append(right*1.0/(right+error))\n",
        "    train_loss.append(loss_val)"
      ],
      "execution_count": 9,
      "outputs": [
        {
          "output_type": "stream",
          "name": "stderr",
          "text": [
            "/usr/local/lib/python3.7/dist-packages/torch/utils/data/dataloader.py:481: UserWarning: This DataLoader will create 4 worker processes in total. Our suggested max number of worker in current system is 2, which is smaller than what this DataLoader is going to create. Please be aware that excessive worker creation might get DataLoader running slow or even freeze, lower the worker number to avoid potential slowness/freeze if necessary.\n",
            "  cpuset_checked))\n",
            "/usr/local/lib/python3.7/dist-packages/torch/nn/functional.py:718: UserWarning: Named tensors and all their associated APIs are an experimental feature and subject to change. Please do not use them for anything important until they are released as stable. (Triggered internally at  /pytorch/c10/core/TensorImpl.h:1156.)\n",
            "  return torch.max_pool2d(input, kernel_size, stride, padding, dilation, ceil_mode)\n"
          ]
        },
        {
          "output_type": "stream",
          "name": "stdout",
          "text": [
            "[10]\tloss:\t0.69309\ttime lapsed:\t9.34 s\n",
            "[20]\tloss:\t0.69294\ttime lapsed:\t8.46 s\n",
            "[30]\tloss:\t0.69280\ttime lapsed:\t8.45 s\n",
            "[40]\tloss:\t0.69191\ttime lapsed:\t8.40 s\n",
            "[50]\tloss:\t0.68954\ttime lapsed:\t8.50 s\n",
            "[60]\tloss:\t0.68657\ttime lapsed:\t8.49 s\n",
            "[70]\tloss:\t0.68612\ttime lapsed:\t8.43 s\n",
            "[80]\tloss:\t0.68536\ttime lapsed:\t8.46 s\n",
            "[90]\tloss:\t0.68714\ttime lapsed:\t8.43 s\n",
            "[100]\tloss:\t0.68382\ttime lapsed:\t8.42 s\n",
            "**********************************************************************\n",
            "[100]\tTest set\tcorrect:\t65\terror:\t135\tprecision:\t0.325000\n",
            "**********************************************************************\n",
            "[110]\tloss:\t0.68329\ttime lapsed:\t11.98 s\n",
            "[120]\tloss:\t0.68078\ttime lapsed:\t8.45 s\n",
            "[130]\tloss:\t0.67981\ttime lapsed:\t8.51 s\n",
            "[140]\tloss:\t0.67751\ttime lapsed:\t8.47 s\n",
            "[150]\tloss:\t0.67937\ttime lapsed:\t8.50 s\n",
            "[160]\tloss:\t0.67958\ttime lapsed:\t8.58 s\n",
            "[170]\tloss:\t0.67625\ttime lapsed:\t8.38 s\n",
            "[180]\tloss:\t0.67129\ttime lapsed:\t8.43 s\n",
            "[190]\tloss:\t0.67419\ttime lapsed:\t8.42 s\n",
            "[200]\tloss:\t0.66988\ttime lapsed:\t8.49 s\n",
            "**********************************************************************\n",
            "[200]\tTest set\tcorrect:\t63\terror:\t137\tprecision:\t0.315000\n",
            "**********************************************************************\n",
            "[210]\tloss:\t0.67722\ttime lapsed:\t11.91 s\n",
            "[220]\tloss:\t0.66856\ttime lapsed:\t8.42 s\n",
            "[230]\tloss:\t0.66829\ttime lapsed:\t8.43 s\n",
            "[240]\tloss:\t0.66351\ttime lapsed:\t8.42 s\n",
            "[250]\tloss:\t0.66002\ttime lapsed:\t8.48 s\n",
            "[260]\tloss:\t0.66699\ttime lapsed:\t8.40 s\n",
            "[270]\tloss:\t0.67726\ttime lapsed:\t8.46 s\n",
            "[280]\tloss:\t0.66663\ttime lapsed:\t8.37 s\n",
            "[290]\tloss:\t0.65919\ttime lapsed:\t8.45 s\n",
            "[300]\tloss:\t0.66158\ttime lapsed:\t8.45 s\n",
            "**********************************************************************\n",
            "[300]\tTest set\tcorrect:\t63\terror:\t137\tprecision:\t0.315000\n",
            "**********************************************************************\n",
            "[310]\tloss:\t0.65825\ttime lapsed:\t11.93 s\n",
            "[320]\tloss:\t0.67059\ttime lapsed:\t8.52 s\n",
            "[330]\tloss:\t0.66213\ttime lapsed:\t8.39 s\n",
            "[340]\tloss:\t0.65625\ttime lapsed:\t8.35 s\n",
            "[350]\tloss:\t0.65484\ttime lapsed:\t8.38 s\n",
            "[360]\tloss:\t0.64651\ttime lapsed:\t8.38 s\n",
            "[370]\tloss:\t0.65055\ttime lapsed:\t8.41 s\n",
            "[380]\tloss:\t0.65573\ttime lapsed:\t8.35 s\n",
            "[390]\tloss:\t0.66214\ttime lapsed:\t8.06 s\n"
          ]
        }
      ]
    },
    {
      "cell_type": "markdown",
      "metadata": {
        "id": "GZwuq_Bi09aw"
      },
      "source": [
        "検索処理のためのデータ・セットクラスを作成"
      ]
    },
    {
      "cell_type": "code",
      "metadata": {
        "colab": {
          "base_uri": "https://localhost:8080/"
        },
        "id": "Z4LocgMH06U2",
        "outputId": "9da72548-36ca-44d9-dec4-75dacb9be28a"
      },
      "source": [
        "net = net.eval()\n",
        "\n",
        "# - test images -\n",
        "test_output = []\n",
        "test_output_name = []\n",
        "test_image = []\n",
        "\n",
        "for batch_idx, (x, label) in enumerate(testLoader):\n",
        "    feature = net.forward_one(x)\n",
        "    test_image.append(x)\n",
        "    test_output.append(np.array(feature.cpu().tolist()))\n",
        "    test_output_name.append(label)"
      ],
      "execution_count": 10,
      "outputs": [
        {
          "output_type": "stream",
          "name": "stderr",
          "text": [
            "/usr/local/lib/python3.7/dist-packages/torch/utils/data/dataloader.py:481: UserWarning: This DataLoader will create 4 worker processes in total. Our suggested max number of worker in current system is 2, which is smaller than what this DataLoader is going to create. Please be aware that excessive worker creation might get DataLoader running slow or even freeze, lower the worker number to avoid potential slowness/freeze if necessary.\n",
            "  cpuset_checked))\n"
          ]
        }
      ]
    },
    {
      "cell_type": "markdown",
      "metadata": {
        "id": "FbLR5YZH1E7k"
      },
      "source": [
        "効率よく検索できるライブラリ`nmslib`を導入"
      ]
    },
    {
      "cell_type": "code",
      "metadata": {
        "colab": {
          "base_uri": "https://localhost:8080/"
        },
        "id": "aOQr4y_v1CZf",
        "outputId": "e4cb194a-95e2-421c-8b0a-f7dbfa8ac1d4"
      },
      "source": [
        "!pip install nmslib"
      ],
      "execution_count": 11,
      "outputs": [
        {
          "output_type": "stream",
          "name": "stdout",
          "text": [
            "Collecting nmslib\n",
            "  Downloading nmslib-2.1.1-cp37-cp37m-manylinux2010_x86_64.whl (13.5 MB)\n",
            "\u001b[K     |████████████████████████████████| 13.5 MB 74 kB/s \n",
            "\u001b[?25hRequirement already satisfied: psutil in /usr/local/lib/python3.7/dist-packages (from nmslib) (5.4.8)\n",
            "Collecting pybind11<2.6.2\n",
            "  Downloading pybind11-2.6.1-py2.py3-none-any.whl (188 kB)\n",
            "\u001b[K     |████████████████████████████████| 188 kB 43.6 MB/s \n",
            "\u001b[?25hRequirement already satisfied: numpy>=1.10.0 in /usr/local/lib/python3.7/dist-packages (from nmslib) (1.19.5)\n",
            "Installing collected packages: pybind11, nmslib\n",
            "Successfully installed nmslib-2.1.1 pybind11-2.6.1\n"
          ]
        }
      ]
    },
    {
      "cell_type": "markdown",
      "metadata": {
        "id": "CeMaPuWe1I-u"
      },
      "source": [
        "作成した特徴量を用いてIndexを作成"
      ]
    },
    {
      "cell_type": "code",
      "metadata": {
        "id": "M2obw38a1GhV"
      },
      "source": [
        "import nmslib\n",
        "\n",
        "index = nmslib.init(method='hnsw', space='cosinesimil')\n",
        "index.addDataPointBatch(test_output)\n",
        "index.createIndex({'post': 2}, print_progress=True)"
      ],
      "execution_count": 12,
      "outputs": []
    },
    {
      "cell_type": "markdown",
      "metadata": {
        "id": "6d4sdQop1Mbk"
      },
      "source": [
        "検索対象とする画像を表示"
      ]
    },
    {
      "cell_type": "code",
      "metadata": {
        "colab": {
          "base_uri": "https://localhost:8080/",
          "height": 180
        },
        "id": "4-xILl0z1K0v",
        "outputId": "fa2a06bb-b4af-4e27-83e0-af5f396d012a"
      },
      "source": [
        "def show_images(images, figsize=(20,10), columns = 5):\n",
        "  plt.figure(figsize=figsize)\n",
        "  for i, image in enumerate(images):\n",
        "      image = image.transpose(0, 1).transpose(1, 2)\n",
        "      plt.subplot(len(images) / columns + 1, columns, i + 1)\n",
        "      plt.imshow(image)\n",
        "\n",
        "show_images(test_image[0])"
      ],
      "execution_count": 13,
      "outputs": [
        {
          "output_type": "display_data",
          "data": {
            "image/png": "[encoded data removed]",
            "text/plain": [
              "<Figure size 1440x720 with 5 Axes>"
            ]
          },
          "metadata": {
            "needs_background": "light"
          }
        }
      ]
    },
    {
      "cell_type": "markdown",
      "metadata": {
        "id": "fy0Bqo781RWe"
      },
      "source": [
        "検索対象の画像をクエリとして画像の検索処理をしてTop19のデータを取得"
      ]
    },
    {
      "cell_type": "code",
      "metadata": {
        "colab": {
          "base_uri": "https://localhost:8080/",
          "height": 467
        },
        "id": "7OB2RkJU1OQ7",
        "outputId": "193bfe8e-abb3-43f2-aa12-978ccd9248d0"
      },
      "source": [
        "ids, distances = index.knnQuery(test_output[0], k=19)\n",
        "search_images = []\n",
        "for id, distance in zip(ids, distances):\n",
        "    search_images.append(test_image[id][0])\n",
        "\n",
        "show_images(search_images)"
      ],
      "execution_count": 14,
      "outputs": [
        {
          "output_type": "display_data",
          "data": {
            "image/png": "[encoded data removed]",
            "text/plain": [
              "<Figure size 1440x720 with 19 Axes>"
            ]
          },
          "metadata": {
            "needs_background": "light"
          }
        }
      ]
    },
    {
      "cell_type": "code",
      "metadata": {
        "id": "SQRcCHGY1SwM"
      },
      "source": [
        ""
      ],
      "execution_count": 14,
      "outputs": []
    }
  ]
}